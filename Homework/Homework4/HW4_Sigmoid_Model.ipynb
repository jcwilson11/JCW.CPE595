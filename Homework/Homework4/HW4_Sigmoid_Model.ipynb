{
 "cells": [
  {
   "cell_type": "markdown",
   "metadata": {},
   "source": [
    "# CPE 595 Homework 4 - Sigmoid Function"
   ]
  },
  {
   "cell_type": "markdown",
   "metadata": {},
   "source": [
    "## Question 1: Programming"
   ]
  },
  {
   "cell_type": "markdown",
   "metadata": {},
   "source": [
    "### Step 1:  Data Acquisition and Visualization"
   ]
  },
  {
   "cell_type": "code",
   "execution_count": 33,
   "metadata": {},
   "outputs": [],
   "source": [
    "import numpy as np\n",
    "import struct\n",
    "import gzip\n",
    "import matplotlib.pyplot as plt\n",
    "\n",
    "# reading IDX files\n",
    "def read_idx(filename):\n",
    "    with gzip.open(filename, 'rb') as f:\n",
    "        zero, data_type, dims = struct.unpack('>HBB', f.read(4))\n",
    "        shape = tuple(struct.unpack('>I', f.read(4))[0] for d in range(dims))\n",
    "        return np.frombuffer(f.read(), dtype=np.uint8).reshape(shape)"
   ]
  },
  {
   "cell_type": "code",
   "execution_count": 34,
   "metadata": {},
   "outputs": [
    {
     "name": "stdout",
     "output_type": "stream",
     "text": [
      "Train images shape: (60000, 28, 28)\n",
      "Train labels shape: (60000,)\n",
      "Test images shape: (10000, 28, 28)\n",
      "Test labels shape: (10000,)\n"
     ]
    }
   ],
   "source": [
    "# Load the MNIST Dataset\n",
    "# Define the file paths for the downloaded dataset\n",
    "train_images_path = 'train-images-idx3-ubyte.gz'\n",
    "train_labels_path = 'train-labels-idx1-ubyte.gz'\n",
    "test_images_path = 't10k-images-idx3-ubyte.gz'\n",
    "test_labels_path = 't10k-labels-idx1-ubyte.gz'\n",
    "\n",
    "# Load the datasets using the read_idx function\n",
    "train_images = read_idx(train_images_path)\n",
    "train_labels = read_idx(train_labels_path)\n",
    "test_images = read_idx(test_images_path)\n",
    "test_labels = read_idx(test_labels_path)\n",
    "\n",
    "# Print out the shapes of each dataset array\n",
    "print(\"Train images shape:\", train_images.shape)\n",
    "print(\"Train labels shape:\", train_labels.shape)\n",
    "print(\"Test images shape:\", test_images.shape)\n",
    "print(\"Test labels shape:\", test_labels.shape)\n"
   ]
  },
  {
   "cell_type": "code",
   "execution_count": 35,
   "metadata": {},
   "outputs": [
    {
     "data": {
      "image/png": "[encoded data removed]",
      "text/plain": [
       "<Figure size 640x480 with 1 Axes>"
      ]
     },
     "metadata": {},
     "output_type": "display_data"
    }
   ],
   "source": [
    "# Plot some sample images from the dataset\n",
    "\n",
    "import random\n",
    "\n",
    "# Choose a random index from the training data\n",
    "random_index = random.randint(0, train_images.shape[0] - 1)\n",
    "\n",
    "# Display the image using plt.imshow with a grayscale colormap\n",
    "plt.imshow(train_images[random_index], cmap='gray')\n",
    "plt.title(\"Label: {}\".format(train_labels[random_index]))\n",
    "plt.axis('off')  # Hide the axes\n",
    "plt.show()\n"
   ]
  },
  {
   "cell_type": "markdown",
   "metadata": {},
   "source": [
    "### Step 2:  Data Preprocesing"
   ]
  },
  {
   "cell_type": "code",
   "execution_count": 36,
   "metadata": {},
   "outputs": [],
   "source": [
    "# Normalize the pixel values to be between 0 and 1\n",
    "train_images_norm = train_images.astype(np.float32) / 255.0\n",
    "test_images_norm = test_images.astype(np.float32) / 255.0"
   ]
  },
  {
   "cell_type": "code",
   "execution_count": 37,
   "metadata": {},
   "outputs": [],
   "source": [
    "# Define the number of classes (digits 0-9, 10 classes)\n",
    "num_classes = 10\n",
    "\n",
    "# Convert the training and testing labels to one-hot encoded vectors\n",
    "train_labels_onehot = np.eye(num_classes)[train_labels]\n",
    "test_labels_onehot = np.eye(num_classes)[test_labels]\n"
   ]
  },
  {
   "cell_type": "markdown",
   "metadata": {},
   "source": [
    "### Step 3:  Network Initialization"
   ]
  },
  {
   "cell_type": "code",
   "execution_count": 38,
   "metadata": {},
   "outputs": [],
   "source": [
    "import numpy as np\n",
    "\n",
    "def sigmoid(z):\n",
    "    return 1 / (1 + np.exp(-z))\n",
    "\n",
    "def sigmoid_derivative(z):\n",
    "    s = sigmoid(z)\n",
    "    return s * (1 - s)\n",
    "\n",
    "def softmax(z):\n",
    "    # Subtract the max for numerical stability\n",
    "    z_exp = np.exp(z - np.max(z, axis=0, keepdims=True))\n",
    "    return z_exp / np.sum(z_exp, axis=0, keepdims=True)"
   ]
  },
  {
   "cell_type": "code",
   "execution_count": 39,
   "metadata": {},
   "outputs": [
    {
     "name": "stdout",
     "output_type": "stream",
     "text": [
      "W1 shape: (128, 784) b1 shape: (128, 1)\n",
      "W2 shape: (64, 128) b2 shape: (64, 1)\n",
      "W3 shape: (10, 64) b3 shape: (10, 1)\n"
     ]
    }
   ],
   "source": [
    "# Test initialization \n",
    "np.random.seed(695)\n",
    "\n",
    "# Define the network architecture sizes\n",
    "input_size = 784    # 28 x 28 images\n",
    "hidden1_size = 128\n",
    "hidden2_size = 64\n",
    "output_size = 10   \n",
    "\n",
    "# Initialize weights and biases using a uniform distribution\n",
    "W1 = np.random.uniform(-0.1, 0.1, (hidden1_size, input_size))\n",
    "b1 = np.random.uniform(-0.1, 0.1, (hidden1_size, 1))\n",
    "\n",
    "W2 = np.random.uniform(-0.1, 0.1, (hidden2_size, hidden1_size))\n",
    "b2 = np.random.uniform(-0.1, 0.1, (hidden2_size, 1))\n",
    "\n",
    "W3 = np.random.uniform(-0.1, 0.1, (output_size, hidden2_size))\n",
    "b3 = np.random.uniform(-0.1, 0.1, (output_size, 1))\n",
    "\n",
    "# Print out the shapes to verify correct initialization\n",
    "print(\"W1 shape:\", W1.shape, \"b1 shape:\", b1.shape)\n",
    "print(\"W2 shape:\", W2.shape, \"b2 shape:\", b2.shape)\n",
    "print(\"W3 shape:\", W3.shape, \"b3 shape:\", b3.shape)\n"
   ]
  },
  {
   "cell_type": "markdown",
   "metadata": {},
   "source": [
    "### Step 4: Feed Forward"
   ]
  },
  {
   "cell_type": "code",
   "execution_count": 40,
   "metadata": {},
   "outputs": [],
   "source": [
    "def feed_forward(x):\n",
    "    # First hidden layer: compute z1 and apply sigmoid\n",
    "    z1 = np.dot(W1, x) + b1\n",
    "    a1 = sigmoid(z1)\n",
    "    \n",
    "    # Second hidden layer: compute z2 and apply sigmoid\n",
    "    z2 = np.dot(W2, a1) + b2\n",
    "    a2 = sigmoid(z2)\n",
    "    \n",
    "    # Output layer: compute z3 and apply softmax to get probability distribution\n",
    "    z3 = np.dot(W3, a2) + b3\n",
    "    a3 = softmax(z3)\n",
    "    \n",
    "    return a1, a2, a3\n"
   ]
  },
  {
   "cell_type": "markdown",
   "metadata": {},
   "source": [
    "### Step 5: Back Propagation"
   ]
  },
  {
   "cell_type": "code",
   "execution_count": 41,
   "metadata": {},
   "outputs": [],
   "source": [
    "def compute_loss(a3, y):\n",
    "    m = y.shape[1]\n",
    "    # Adding a small constant (1e-8) for numerical stability in the log operation.\n",
    "    loss = -np.sum(y * np.log(a3 + 1e-8)) / m\n",
    "    return loss\n",
    "\n",
    "def back_propagation(x, y, cache):\n",
    "    z1, a1, z2, a2, z3, a3 = cache\n",
    "    m = x.shape[1]\n",
    "    \n",
    "    # --------- Output Layer (Layer 3) ---------\n",
    "    dz3 = a3 - y\n",
    "    dW3 = np.dot(dz3, a2.T) / m\n",
    "    db3 = np.sum(dz3, axis=1, keepdims=True) / m\n",
    "\n",
    "    # --------- Hidden Layer 2 ---------\n",
    "    dz2 = np.dot(W3.T, dz3) * sigmoid_derivative(z2)\n",
    "    dW2 = np.dot(dz2, a1.T) / m\n",
    "    db2 = np.sum(dz2, axis=1, keepdims=True) / m\n",
    "\n",
    "    # --------- Hidden Layer 1 ---------\n",
    "    dz1 = np.dot(W2.T, dz2) * sigmoid_derivative(z1)\n",
    "    dW1 = np.dot(dz1, x.T) / m\n",
    "    db1 = np.sum(dz1, axis=1, keepdims=True) / m\n",
    "    \n",
    "    return dW1, db1, dW2, db2, dW3, db3\n"
   ]
  },
  {
   "cell_type": "markdown",
   "metadata": {},
   "source": [
    "### Step 6: Model Training"
   ]
  },
  {
   "cell_type": "code",
   "execution_count": 42,
   "metadata": {},
   "outputs": [
    {
     "name": "stdout",
     "output_type": "stream",
     "text": [
      "Epoch 1/100: Loss = 2.3008, Test Accuracy = 11.35%\n",
      "Epoch 2/100: Loss = 2.2943, Test Accuracy = 11.35%\n",
      "Epoch 3/100: Loss = 2.2889, Test Accuracy = 11.39%\n",
      "Epoch 4/100: Loss = 2.2824, Test Accuracy = 11.35%\n",
      "Epoch 5/100: Loss = 2.2743, Test Accuracy = 11.73%\n",
      "Epoch 6/100: Loss = 2.2634, Test Accuracy = 18.38%\n",
      "Epoch 7/100: Loss = 2.2482, Test Accuracy = 27.31%\n",
      "Epoch 8/100: Loss = 2.2260, Test Accuracy = 37.36%\n",
      "Epoch 9/100: Loss = 2.1925, Test Accuracy = 45.80%\n",
      "Epoch 10/100: Loss = 2.1411, Test Accuracy = 54.09%\n",
      "Epoch 11/100: Loss = 2.0630, Test Accuracy = 54.67%\n",
      "Epoch 12/100: Loss = 1.9530, Test Accuracy = 53.30%\n",
      "Epoch 13/100: Loss = 1.8159, Test Accuracy = 56.48%\n",
      "Epoch 14/100: Loss = 1.6665, Test Accuracy = 59.51%\n",
      "Epoch 15/100: Loss = 1.5218, Test Accuracy = 62.04%\n",
      "Epoch 16/100: Loss = 1.3919, Test Accuracy = 64.38%\n",
      "Epoch 17/100: Loss = 1.2786, Test Accuracy = 66.06%\n",
      "Epoch 18/100: Loss = 1.1805, Test Accuracy = 67.86%\n",
      "Epoch 19/100: Loss = 1.0965, Test Accuracy = 69.90%\n",
      "Epoch 20/100: Loss = 1.0248, Test Accuracy = 72.26%\n",
      "Epoch 21/100: Loss = 0.9635, Test Accuracy = 73.82%\n",
      "Epoch 22/100: Loss = 0.9104, Test Accuracy = 75.17%\n",
      "Epoch 23/100: Loss = 0.8640, Test Accuracy = 76.65%\n",
      "Epoch 24/100: Loss = 0.8231, Test Accuracy = 77.71%\n",
      "Epoch 25/100: Loss = 0.7863, Test Accuracy = 78.62%\n",
      "Epoch 26/100: Loss = 0.7534, Test Accuracy = 79.62%\n",
      "Epoch 27/100: Loss = 0.7235, Test Accuracy = 80.54%\n",
      "Epoch 28/100: Loss = 0.6965, Test Accuracy = 81.22%\n",
      "Epoch 29/100: Loss = 0.6718, Test Accuracy = 81.80%\n",
      "Epoch 30/100: Loss = 0.6494, Test Accuracy = 82.57%\n",
      "Epoch 31/100: Loss = 0.6289, Test Accuracy = 83.14%\n",
      "Epoch 32/100: Loss = 0.6102, Test Accuracy = 83.58%\n",
      "Epoch 33/100: Loss = 0.5929, Test Accuracy = 84.03%\n",
      "Epoch 34/100: Loss = 0.5770, Test Accuracy = 84.26%\n",
      "Epoch 35/100: Loss = 0.5624, Test Accuracy = 84.60%\n",
      "Epoch 36/100: Loss = 0.5487, Test Accuracy = 85.16%\n",
      "Epoch 37/100: Loss = 0.5360, Test Accuracy = 85.53%\n",
      "Epoch 38/100: Loss = 0.5243, Test Accuracy = 85.78%\n",
      "Epoch 39/100: Loss = 0.5133, Test Accuracy = 86.05%\n",
      "Epoch 40/100: Loss = 0.5030, Test Accuracy = 86.42%\n",
      "Epoch 41/100: Loss = 0.4934, Test Accuracy = 86.54%\n",
      "Epoch 42/100: Loss = 0.4844, Test Accuracy = 86.82%\n",
      "Epoch 43/100: Loss = 0.4759, Test Accuracy = 87.10%\n",
      "Epoch 44/100: Loss = 0.4680, Test Accuracy = 87.32%\n",
      "Epoch 45/100: Loss = 0.4606, Test Accuracy = 87.62%\n",
      "Epoch 46/100: Loss = 0.4535, Test Accuracy = 87.78%\n",
      "Epoch 47/100: Loss = 0.4467, Test Accuracy = 87.88%\n",
      "Epoch 48/100: Loss = 0.4405, Test Accuracy = 88.01%\n",
      "Epoch 49/100: Loss = 0.4345, Test Accuracy = 88.22%\n",
      "Epoch 50/100: Loss = 0.4288, Test Accuracy = 88.31%\n",
      "Epoch 51/100: Loss = 0.4235, Test Accuracy = 88.54%\n",
      "Epoch 52/100: Loss = 0.4183, Test Accuracy = 88.62%\n",
      "Epoch 53/100: Loss = 0.4135, Test Accuracy = 88.77%\n",
      "Epoch 54/100: Loss = 0.4087, Test Accuracy = 88.82%\n",
      "Epoch 55/100: Loss = 0.4044, Test Accuracy = 88.91%\n",
      "Epoch 56/100: Loss = 0.4002, Test Accuracy = 89.04%\n",
      "Epoch 57/100: Loss = 0.3960, Test Accuracy = 89.09%\n",
      "Epoch 58/100: Loss = 0.3922, Test Accuracy = 89.25%\n",
      "Epoch 59/100: Loss = 0.3885, Test Accuracy = 89.28%\n",
      "Epoch 60/100: Loss = 0.3849, Test Accuracy = 89.32%\n",
      "Epoch 61/100: Loss = 0.3815, Test Accuracy = 89.39%\n",
      "Epoch 62/100: Loss = 0.3781, Test Accuracy = 89.40%\n",
      "Epoch 63/100: Loss = 0.3749, Test Accuracy = 89.48%\n",
      "Epoch 64/100: Loss = 0.3718, Test Accuracy = 89.61%\n",
      "Epoch 65/100: Loss = 0.3689, Test Accuracy = 89.64%\n",
      "Epoch 66/100: Loss = 0.3660, Test Accuracy = 89.74%\n",
      "Epoch 67/100: Loss = 0.3631, Test Accuracy = 89.78%\n",
      "Epoch 68/100: Loss = 0.3604, Test Accuracy = 89.88%\n",
      "Epoch 69/100: Loss = 0.3578, Test Accuracy = 90.03%\n",
      "Epoch 70/100: Loss = 0.3553, Test Accuracy = 90.00%\n",
      "Epoch 71/100: Loss = 0.3527, Test Accuracy = 90.05%\n",
      "Epoch 72/100: Loss = 0.3502, Test Accuracy = 90.20%\n",
      "Epoch 73/100: Loss = 0.3479, Test Accuracy = 90.25%\n",
      "Epoch 74/100: Loss = 0.3456, Test Accuracy = 90.43%\n",
      "Epoch 75/100: Loss = 0.3434, Test Accuracy = 90.34%\n",
      "Epoch 76/100: Loss = 0.3413, Test Accuracy = 90.49%\n",
      "Epoch 77/100: Loss = 0.3390, Test Accuracy = 90.58%\n",
      "Epoch 78/100: Loss = 0.3370, Test Accuracy = 90.67%\n",
      "Epoch 79/100: Loss = 0.3349, Test Accuracy = 90.65%\n",
      "Epoch 80/100: Loss = 0.3328, Test Accuracy = 90.74%\n",
      "Epoch 81/100: Loss = 0.3309, Test Accuracy = 90.83%\n",
      "Epoch 82/100: Loss = 0.3289, Test Accuracy = 90.88%\n",
      "Epoch 83/100: Loss = 0.3270, Test Accuracy = 91.03%\n",
      "Epoch 84/100: Loss = 0.3252, Test Accuracy = 91.05%\n",
      "Epoch 85/100: Loss = 0.3234, Test Accuracy = 91.09%\n",
      "Epoch 86/100: Loss = 0.3215, Test Accuracy = 91.15%\n",
      "Epoch 87/100: Loss = 0.3197, Test Accuracy = 91.19%\n",
      "Epoch 88/100: Loss = 0.3180, Test Accuracy = 91.27%\n",
      "Epoch 89/100: Loss = 0.3163, Test Accuracy = 91.31%\n",
      "Epoch 90/100: Loss = 0.3146, Test Accuracy = 91.40%\n",
      "Epoch 91/100: Loss = 0.3129, Test Accuracy = 91.41%\n",
      "Epoch 92/100: Loss = 0.3111, Test Accuracy = 91.40%\n",
      "Epoch 93/100: Loss = 0.3095, Test Accuracy = 91.50%\n",
      "Epoch 94/100: Loss = 0.3080, Test Accuracy = 91.49%\n",
      "Epoch 95/100: Loss = 0.3063, Test Accuracy = 91.51%\n",
      "Epoch 96/100: Loss = 0.3048, Test Accuracy = 91.53%\n",
      "Epoch 97/100: Loss = 0.3032, Test Accuracy = 91.57%\n",
      "Epoch 98/100: Loss = 0.3016, Test Accuracy = 91.63%\n",
      "Epoch 99/100: Loss = 0.3001, Test Accuracy = 91.65%\n",
      "Epoch 100/100: Loss = 0.2985, Test Accuracy = 91.67%\n"
     ]
    }
   ],
   "source": [
    "X_train = train_images_norm.reshape(train_images_norm.shape[0], -1).T  # Flattened training images\n",
    "Y_train = train_labels_onehot.T                                     # Transpose to shape (10, 60000)\n",
    "X_test = test_images_norm.reshape(test_images_norm.shape[0], -1).T    # Flattened test images\n",
    "Y_test = test_labels_onehot.T                                         # Transpose to shape (10, 10000)\n",
    "\n",
    "# Define a feed_forward function that returns the necessary caches for backpropagation.\n",
    "def feed_forward_cache(x):\n",
    "    # First hidden layer\n",
    "    z1 = np.dot(W1, x) + b1\n",
    "    a1 = sigmoid(z1)\n",
    "    \n",
    "    # Second hidden layer\n",
    "    z2 = np.dot(W2, a1) + b2\n",
    "    a2 = sigmoid(z2)\n",
    "    \n",
    "    # Output layer\n",
    "    z3 = np.dot(W3, a2) + b3\n",
    "    a3 = softmax(z3)\n",
    "    \n",
    "    return (z1, a1, z2, a2, z3, a3)\n",
    "\n",
    "# Set training hyperparameters\n",
    "epochs = 100\n",
    "batch_size = 128\n",
    "learning_rate = 0.01\n",
    "\n",
    "# Calculate the number of batches per epoch\n",
    "n_samples = X_train.shape[1]\n",
    "n_batches = n_samples // batch_size + (1 if n_samples % batch_size != 0 else 0)\n",
    "\n",
    "loss_list = []\n",
    "\n",
    "# Training loop using mini-batch gradient descent\n",
    "for epoch in range(epochs):\n",
    "    # Shuffle the training data indices\n",
    "    permutation = np.random.permutation(n_samples)\n",
    "    X_train_shuffled = X_train[:, permutation]\n",
    "    Y_train_shuffled = Y_train[:, permutation]\n",
    "    \n",
    "    epoch_loss = 0.0\n",
    "    # Process each mini-batch\n",
    "    for i in range(n_batches):\n",
    "        start = i * batch_size\n",
    "        end = min(start + batch_size, n_samples)\n",
    "        x_batch = X_train_shuffled[:, start:end]\n",
    "        y_batch = Y_train_shuffled[:, start:end]\n",
    "        \n",
    "        # Feedforward: compute activations and cache intermediate values\n",
    "        cache = feed_forward_cache(x_batch)\n",
    "        loss = compute_loss(cache[5], y_batch)\n",
    "        epoch_loss += loss\n",
    "        \n",
    "        # Backpropagation: compute gradients with respect to parameters\n",
    "        dW1, db1, dW2, db2, dW3, db3 = back_propagation(x_batch, y_batch, cache)\n",
    "        \n",
    "        # Parameter updates (gradient descent)\n",
    "        W1 -= learning_rate * dW1\n",
    "        b1 -= learning_rate * db1\n",
    "        W2 -= learning_rate * dW2\n",
    "        b2 -= learning_rate * db2\n",
    "        W3 -= learning_rate * dW3\n",
    "        b3 -= learning_rate * db3\n",
    "\n",
    "    # Average loss for the epoch\n",
    "    epoch_loss /= n_batches\n",
    "    loss_list.append(epoch_loss)\n",
    "    \n",
    "    # Evaluate the model on the test data at the end of the epoch\n",
    "    _, _, _, _, _, a3_test = feed_forward_cache(X_test)\n",
    "    predictions = np.argmax(a3_test, axis=0)\n",
    "    labels = np.argmax(Y_test, axis=0)\n",
    "    accuracy = np.mean(predictions == labels)\n",
    "    \n",
    "    print(f\"Epoch {epoch+1}/{epochs}: Loss = {epoch_loss:.4f}, Test Accuracy = {accuracy*100:.2f}%\")\n"
   ]
  },
  {
   "cell_type": "markdown",
   "metadata": {},
   "source": [
    "### Step 7: Model Evaluation"
   ]
  },
  {
   "cell_type": "code",
   "execution_count": null,
   "metadata": {},
   "outputs": [
    {
     "name": "stdout",
     "output_type": "stream",
     "text": [
      "Test Accuracy: 91.67%\n",
      "Number of misclassified samples: 833\n"
     ]
    },
    {
     "data": {
      "image/png": "[encoded data removed]",
      "text/plain": [
       "<Figure size 1000x400 with 10 Axes>"
      ]
     },
     "metadata": {},
     "output_type": "display_data"
    }
   ],
   "source": [
    "\n",
    "_, _, _, _, _, a3_test = feed_forward_cache(X_test)\n",
    "\n",
    "# Compute predictions and the true labels\n",
    "predictions = np.argmax(a3_test, axis=0)\n",
    "true_labels = np.argmax(Y_test, axis=0)\n",
    "\n",
    "# Calculate the accuracy on the test dataset\n",
    "accuracy = np.mean(predictions == true_labels)\n",
    "print(\"Test Accuracy: {:.2f}%\".format(accuracy * 100))\n",
    "\n",
    "# Find the indices of misclassified images\n",
    "misclassified_idx = np.where(predictions != true_labels)[0]\n",
    "print(\"Number of misclassified samples:\", len(misclassified_idx))\n",
    "\n",
    "# Plot some of the misclassified images\n",
    "num_to_plot = min(10, len(misclassified_idx))\n",
    "plt.figure(figsize=(10, 4))\n",
    "for i in range(num_to_plot):\n",
    "    idx = misclassified_idx[i]\n",
    "    # Retrieve the image from the original normalized test set.\n",
    "    # test_images_norm has shape (10000, 28, 28) corresponding to the original ordering.\n",
    "    img = test_images_norm[idx]\n",
    "    plt.subplot(2, 5, i + 1)\n",
    "    plt.imshow(img, cmap='gray')\n",
    "    plt.title(f\"Pred: {predictions[idx]}\\nTrue: {true_labels[idx]}\")\n",
    "    plt.axis('off')\n",
    "plt.tight_layout()\n",
    "plt.show()"
   ]
  }
 ],
 "metadata": {
  "kernelspec": {
   "display_name": "CPE595",
   "language": "python",
   "name": "python3"
  },
  "language_info": {
   "codemirror_mode": {
    "name": "ipython",
    "version": 3
   },
   "file_extension": ".py",
   "mimetype": "text/x-python",
   "name": "python",
   "nbconvert_exporter": "python",
   "pygments_lexer": "ipython3",
   "version": "3.13.1"
  }
 },
 "nbformat": 4,
 "nbformat_minor": 2
}
