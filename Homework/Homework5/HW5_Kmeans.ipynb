{
 "cells": [
  {
   "cell_type": "markdown",
   "id": "c9304646",
   "metadata": {},
   "source": [
    "# CPE 595 Homework 5 - K Means"
   ]
  },
  {
   "cell_type": "markdown",
   "id": "fd8f8f94",
   "metadata": {},
   "source": [
    "## Question 1: Programming"
   ]
  },
  {
   "cell_type": "markdown",
   "id": "5d76b0c2",
   "metadata": {},
   "source": [
    "### Step 1: 2D Data Generalization and Visualization"
   ]
  }
 ],
 "metadata": {
  "kernelspec": {
   "display_name": "CPE595",
   "language": "python",
   "name": "python3"
  },
  "language_info": {
   "name": "python",
   "version": "3.13.1"
  }
 },
 "nbformat": 4,
 "nbformat_minor": 5
}
